{
 "cells": [
  {
   "cell_type": "markdown",
   "id": "0",
   "metadata": {},
   "source": [
    "### 라이브러리 설치\n",
    "- `lightgbm`"
   ]
  },
  {
   "cell_type": "markdown",
   "id": "1",
   "metadata": {},
   "source": [
    "### 라이브러리 임포트"
   ]
  },
  {
   "cell_type": "code",
   "execution_count": null,
   "id": "2",
   "metadata": {},
   "outputs": [],
   "source": [
    "import warnings;warnings.filterwarnings('ignore')\n",
    "import numpy as np\n",
    "import pandas as pd\n",
    "import matplotlib.pyplot as plt\n",
    "import seaborn as sns\n",
    "import platform\n",
    "\n",
    "if platform.system() == 'Darwin':\n",
    "    plt.rc('font', family='Apple SD Gothic Neo')\n"
   ]
  },
  {
   "cell_type": "markdown",
   "id": "3",
   "metadata": {},
   "source": [
    "### 유틸리티 함수"
   ]
  },
  {
   "cell_type": "code",
   "execution_count": null,
   "id": "4",
   "metadata": {},
   "outputs": [],
   "source": [
    "def vertical_text(text):\n",
    "    return '\\n'.join(text)"
   ]
  },
  {
   "cell_type": "markdown",
   "id": "5",
   "metadata": {},
   "source": [
    "### 데이터 로드"
   ]
  },
  {
   "cell_type": "code",
   "execution_count": null,
   "id": "6",
   "metadata": {},
   "outputs": [],
   "source": [
    "train = pd.read_csv('../../data/train.csv')\n",
    "test = pd.read_csv('../../data/test.csv')"
   ]
  },
  {
   "cell_type": "code",
   "execution_count": null,
   "id": "7",
   "metadata": {},
   "outputs": [],
   "source": [
    "train.shape, test.shape"
   ]
  },
  {
   "cell_type": "markdown",
   "id": "8",
   "metadata": {},
   "source": [
    "### is_test 컬럼 마킹 + concat 통합 데이터 셋 생성"
   ]
  },
  {
   "cell_type": "code",
   "execution_count": null,
   "id": "9",
   "metadata": {},
   "outputs": [],
   "source": [
    "train['is_test'] = 0\n",
    "test['is_test'] = 1\n",
    "\n",
    "concat = pd.concat([train, test])"
   ]
  },
  {
   "cell_type": "code",
   "execution_count": null,
   "id": "10",
   "metadata": {},
   "outputs": [],
   "source": [
    "concat.head()"
   ]
  },
  {
   "cell_type": "markdown",
   "id": "11",
   "metadata": {},
   "source": [
    "### correlation"
   ]
  },
  {
   "cell_type": "code",
   "execution_count": null,
   "id": "12",
   "metadata": {},
   "outputs": [],
   "source": [
    "numeric_columns = []\n",
    "for c in concat.columns.values:\n",
    "    if pd.api.types.is_numeric_dtype(concat[c]):\n",
    "        numeric_columns.append(c)\n",
    "       \n",
    "corr = concat[numeric_columns].corr()\n",
    "mask = np.triu(np.ones_like(corr, dtype=bool))\n",
    "\n",
    "plt.figure(figsize=(12, 12))\n",
    "sns.heatmap(corr, mask=mask, fmt='0.2f', annot=True)"
   ]
  },
  {
   "cell_type": "markdown",
   "id": "13",
   "metadata": {},
   "source": [
    "# 여기서 부터 다시 시작"
   ]
  },
  {
   "cell_type": "code",
   "execution_count": null,
   "id": "14",
   "metadata": {},
   "outputs": [],
   "source": [
    "import warnings;warnings.filterwarnings('ignore')\n",
    "\n",
    "import pandas as pd"
   ]
  },
  {
   "cell_type": "code",
   "execution_count": null,
   "id": "15",
   "metadata": {},
   "outputs": [],
   "source": [
    "train_csv = pd.read_csv('../../data/train.csv')\n",
    "test_csv = pd.read_csv('../../data/test.csv')"
   ]
  },
  {
   "cell_type": "markdown",
   "id": "16",
   "metadata": {},
   "source": [
    "### info"
   ]
  },
  {
   "cell_type": "code",
   "execution_count": null,
   "id": "17",
   "metadata": {},
   "outputs": [],
   "source": [
    "train_csv.info()"
   ]
  },
  {
   "cell_type": "code",
   "execution_count": null,
   "id": "18",
   "metadata": {},
   "outputs": [],
   "source": [
    "test_csv.info()"
   ]
  },
  {
   "cell_type": "markdown",
   "id": "19",
   "metadata": {},
   "source": [
    "### 결측치 분포"
   ]
  },
  {
   "cell_type": "code",
   "execution_count": null,
   "id": "20",
   "metadata": {},
   "outputs": [],
   "source": [
    "concat_csv = pd.concat([\n",
    "    train_csv.isnull().sum(),\n",
    "    train_csv.isnull().mean(),\n",
    "    test_csv.isnull().sum(),\n",
    "    test_csv.isnull().mean(),\n",
    "], axis=1)\n",
    "concat_csv.columns = ['train_csv count', 'train_csv ratio', 'test_csv_count', 'test_csv ratio']\n",
    "display('train_csv')\n",
    "display(concat_csv.sort_values('train_csv ratio', ascending=False))\n",
    "display('test_csv')\n",
    "display(concat_csv.sort_values('test_csv ratio', ascending=False))\n"
   ]
  },
  {
   "cell_type": "code",
   "execution_count": null,
   "id": "21",
   "metadata": {},
   "outputs": [],
   "source": [
    "import pandas as pd\n",
    "import seaborn as sns\n",
    "import matplotlib.pyplot as plt\n",
    "\n",
    "# train과 test 데이터의 결측치 비율 계산\n",
    "train_missing_ratio = train_csv.drop('target', axis=1).isnull().mean()\n",
    "test_missing_ratio = test_csv.isnull().mean()\n",
    "\n",
    "# 결측치 비율을 하나의 DataFrame으로 결합하여 시각화 준비\n",
    "missing_data = pd.DataFrame({\n",
    "    'feature': train_missing_ratio.index,\n",
    "    'train_missing_ratio': train_missing_ratio.values,\n",
    "    'test_missing_ratio': test_missing_ratio.values\n",
    "})"
   ]
  },
  {
   "cell_type": "code",
   "execution_count": null,
   "id": "22",
   "metadata": {},
   "outputs": [],
   "source": [
    "# 히스토그램 그리기\n",
    "plt.figure(figsize=(20, 10))\n",
    "sns.histplot(data=missing_data, x='feature', weights='train_missing_ratio',\n",
    "             color='orange', label='Train Missing Ratio', multiple='stack', kde=False, alpha=0.5)\n",
    "sns.histplot(data=missing_data, x='feature', weights='test_missing_ratio',\n",
    "             color='blue', label='Test Missing Ratio', multiple='stack', kde=False, alpha=0.5)\n",
    "\n",
    "# 그래프 설정\n",
    "plt.xlabel('Features')\n",
    "plt.ylabel('Missing Ratio')\n",
    "plt.title('Missing Value Ratio per Feature in Train and Test Datasets')\n",
    "plt.legend()\n",
    "\n",
    "vertical_feature_names = [vertical_text(feature) for feature in missing_data['feature']]\n",
    "\n",
    "plt.xticks(ticks=range(len(vertical_feature_names)), labels=vertical_feature_names, fontsize=16)\n",
    "plt.tight_layout()\n",
    "\n",
    "# 히스토그램 출력\n",
    "plt.show()"
   ]
  },
  {
   "cell_type": "markdown",
   "id": "23",
   "metadata": {},
   "source": [
    "#### 결론: 결측치 분포는 같다"
   ]
  },
  {
   "cell_type": "markdown",
   "id": "24",
   "metadata": {},
   "source": [
    "### correlation 분석"
   ]
  },
  {
   "cell_type": "code",
   "execution_count": null,
   "id": "25",
   "metadata": {},
   "outputs": [],
   "source": [
    "# 함수선언 \n",
    "def draw_correlation_heatmap(dfs, threshold=0.8):\n",
    "    fig, axs = plt.subplots(nrows=1, ncols=2, figsize=(24, 12))\n",
    "    \n",
    "    for idx, df in enumerate(dfs):\n",
    "        numeric_columns = []\n",
    "        for c in df.columns.values:\n",
    "            if pd.api.types.is_numeric_dtype(df[c]):\n",
    "                numeric_columns.append(c)\n",
    "\n",
    "\n",
    "        corr = df[numeric_columns].corr()\n",
    "        mask = np.triu(np.ones_like(corr, dtype=bool))\n",
    "\n",
    "        if threshold:\n",
    "            mask |= (np.abs(corr) <= threshold)\n",
    "            \n",
    "        axs[idx].set_xticklabels(axs[idx].get_xticklabels(), rotation=270, fontsize=12)\n",
    "        axs[idx].set_yticklabels(axs[idx].get_xticklabels(), fontsize=12)\n",
    "\n",
    "        sns.heatmap(corr, mask=mask, fmt='0.2f', annot=True, cmap='coolwarm', ax=axs[idx])"
   ]
  },
  {
   "cell_type": "code",
   "execution_count": null,
   "id": "26",
   "metadata": {},
   "outputs": [],
   "source": [
    "draw_correlation_heatmap([train_csv.drop('target', axis=1), test_csv], 0.75)"
   ]
  },
  {
   "cell_type": "markdown",
   "id": "27",
   "metadata": {},
   "source": [
    "## 중간 가정\n",
    "### correlation\n",
    "#### 제거\n",
    "- `k-` 시리즈 복잡하니 일단 제거한다\n",
    "- `단지소개기존clob` 알아보기 귀찮으니 일단 제거한다\n",
    "\n",
    "### 도메인에 따른\n",
    "#### 제거\n",
    "- `고용보험관리번호` 집 거래에 영향을 끼친다고 보기 힘들 것, 일단 제거한다\n",
    "- `경비비관리형태` 집 거래에 영향을 끼친다고 보기 힘들 것, 일단 제거한다\n",
    "- `세대전기계약방법` 집 거래에 영향을 끼친다고 보기 힘들 것, 일단 제거한다\n",
    "- `청소비관리형태` 집 거래에 영향을 끼친다고 보기 힘들 것, 일단 제거한다\n",
    "- `단지승인일` 집 거래에 영향을 끼친다고 보기 힘들 것, 일단 제거한다\n",
    "- `단지신청일` 집 거래에 영향을 끼친다고 보기 힘들 것, 일단 제거한다\n",
    "- `관리비 업로드`  집 거래에 영향을 끼친다고 보기 힘들 것, 일단 제거한다\n",
    "- `좌표x` 메타 피쳐로 추가 파생이나 연결에 사용하고 주소가 있으니 일단 제거한다\n",
    "- `좌표y` 메타 피쳐로 추가 파생이나 연결에 사용하고 주소가 있으니 일단 제거한다\n",
    "- `기타/의무/임대/임의=1/2/3/4` **분석 필요** \n",
    "    - 결측치가 많은 것을 `기타` 로 설정하여 없앨 수 있으나 의미는 크지 않다\n",
    "    - `기타` 를 제외한 값이 *discount* 역할을 할 수 있다. 동일 조건의 근처 아파트와 비교 필요\n",
    "- `사용허가여부` **분석 필요**\n",
    "  - 중요할 수 있으나 다른 `등기`, 혹은 실거래가 데이터인데 사용허가안난 건물도 거래하는지 들을 찾아볼 필요가 있다. 일단은 제거한다\n",
    "- `계약일` 도 제거하는게 좋을 것 같다.\n",
    "\n",
    "#### 변경\n",
    "- `주차대수` 는 결측치가 많지만 주차가 세대수 대비 1이 안되는 경우 가격에 영향을 미칠 수 있다고 보고 결측치를 `1`로 가정 `1` 이하의 데이터 아파트와 구분한다\n",
    "\n",
    "### 결측치에 따른\n",
    "#### 제거\n",
    "- `해제사유발생일` 결측치가 너무 많으므로 일단 제거하고, 시간이 날때에 해제사유 발생 유무 혹은 날짜 연산으로 변경한다"
   ]
  },
  {
   "cell_type": "markdown",
   "id": "28",
   "metadata": {},
   "source": [
    "## 컬럼 제거 inplace\n"
   ]
  },
  {
   "cell_type": "code",
   "execution_count": null,
   "id": "29",
   "metadata": {},
   "outputs": [],
   "source": [
    "features = [\n",
    "    '시군구',\n",
    "    '번지',\n",
    "    '본번',\n",
    "    '부번',\n",
    "    '아파트명',\n",
    "    '전용면적(㎡)',\n",
    "    '계약년월',\n",
    "    '계약일',\n",
    "    '층',\n",
    "    '건축년도',\n",
    "    # '도로명',\n",
    "    # '해제사유발생일',\n",
    "    # '등기신청일자',\n",
    "    # '거래유형',\n",
    "    # '중개사소재지',\n",
    "    # 'k-단지분류(아파트,주상복합등등)',\n",
    "    # 'k-전화번호',\n",
    "    # 'k-팩스번호',\n",
    "    # '단지소개기존clob',\n",
    "    # 'k-세대타입(분양형태)',\n",
    "    # 'k-관리방식',\n",
    "    # 'k-복도유형',\n",
    "    # 'k-난방방식',\n",
    "    # 'k-전체동수',\n",
    "    # 'k-전체세대수',\n",
    "    # 'k-건설사(시공사)',\n",
    "    # 'k-시행사',\n",
    "    # 'k-사용검사일-사용승인일',\n",
    "    # 'k-연면적',\n",
    "    # 'k-주거전용면적',\n",
    "    # 'k-관리비부과면적',\n",
    "    # 'k-전용면적별세대현황(60㎡이하)',\n",
    "    # 'k-전용면적별세대현황(60㎡~85㎡이하)',\n",
    "    # 'k-85㎡~135㎡이하',\n",
    "    # 'k-135㎡초과',\n",
    "    # 'k-홈페이지',\n",
    "    # 'k-등록일자',\n",
    "    # 'k-수정일자',\n",
    "    # '고용보험관리번호',\n",
    "    # '경비비관리형태',\n",
    "    # '세대전기계약방법',\n",
    "    # '청소비관리형태',\n",
    "    '건축면적',\n",
    "    '주차대수',\n",
    "    # '기타/의무/임대/임의=1/2/3/4',\n",
    "    # '단지승인일',\n",
    "    # '사용허가여부',\n",
    "    # '관리비 업로드',\n",
    "    # '좌표X',\n",
    "    # '좌표Y',\n",
    "    # '단지신청일'\n",
    "    'target'\n",
    "]"
   ]
  },
  {
   "cell_type": "code",
   "execution_count": null,
   "id": "30",
   "metadata": {},
   "outputs": [],
   "source": [
    "train_csv_v1 = train_csv[features]\n",
    "test_csv_v1 = train_csv[features]\n"
   ]
  },
  {
   "cell_type": "markdown",
   "id": "31",
   "metadata": {},
   "source": [
    "## 결측치 제거\n",
    "- 결측치 제거 후 다시 확인한다"
   ]
  },
  {
   "cell_type": "markdown",
   "id": "32",
   "metadata": {},
   "source": [
    "### 빈 문자열 등 의미 없는 문자를 제거한다\n",
    "- 빈문자열 제거\n",
    "  -`strip` 후의 `length` 내림차순"
   ]
  },
  {
   "cell_type": "code",
   "execution_count": null,
   "id": "33",
   "metadata": {},
   "outputs": [],
   "source": [
    "# 숫자컬럼 유효성 검증\n",
    "# numeric_columns = [c for c in s.columns if pd.api.types.is_numeric_dtype(s[c])]\n",
    "# display(numeric_columns)\n",
    "# [\n",
    "# '본번',        0 -> NaN\n",
    "# '부번',        0 -> NaN\n",
    "# '전용면적(㎡)',  0 -> NaN\n",
    "# '계약년월'      0 -> NaN\n",
    "# '계약일',       0 -> NaN\n",
    "# '층',          0 -> NaN(Lobby ?) -> 다른 데이터로 채워넣는게 나을듯\n",
    "# '건축년도'       0 -> NaN \n",
    "# '건축면적'       0 -> NaN\n",
    "# '주차대수'       NaN -> 1\n",
    "# ]\n",
    "\n",
    "# 본번 부번이 0.0으로 들어가있음 제거 필요\n",
    "\n",
    "for index, _csv in enumerate((train_csv_v1, test_csv_v1)):\n",
    "    # 본번 부번 번지가 모든 없는 경우 제거, 다른 데이터로 보간\n",
    "    display(f'{index} 본번 부번')\n",
    "    display(_csv[~_csv['본번'].isna() & _csv['번지'].isna()])\n",
    "    display(_csv[(~_csv['본번'].isna() & _csv['부번'].isna()) & (_csv['본번'] .isna() & ~_csv['부번'].isna())])\n",
    "    display(_csv[~_csv['본번'].isna() & _csv['번지'].isna()][['아파트명']].drop_duplicates())\n",
    "\n",
    "    c = '전용면적(㎡)'\n",
    "    ddf = _csv[_csv[c] .isna() & (_csv[c] <= 0)]\n",
    "    ddf = ddf.sort_values(c)\n",
    "    if len(ddf) > 0:\n",
    "        display(f'{index} {c}')\n",
    "        display(ddf.sort_values(c))\n",
    "        display(ddf[['아파트명']].drop_duplicates())\n",
    "\n",
    "    c = '계약년월'\n",
    "    ddf = _csv[_csv[c] <= 0]\n",
    "    if len(ddf) > 0:\n",
    "        display(f'{index} {c}')\n",
    "        display(ddf.sort_values(c))\n",
    "        display(ddf[['아파트명']].drop_duplicates())\n",
    "        \n",
    "    c = '계약일'\n",
    "    ddf = _csv[(_csv[c] <= 0) & (_csv[c] > 31)]\n",
    "    if len(ddf) > 0:\n",
    "        display(f'{index} {c}')\n",
    "        display(ddf.sort_values(c))\n",
    "        display(ddf[['아파트명']].drop_duplicates())\n",
    "    \n",
    "    c = '층'\n",
    "    ddf = _csv[_csv['층'] <= 0]\n",
    "    if len(ddf) > 0:\n",
    "        display(f'{index} {c}')\n",
    "        display(ddf.sort_values(c))\n",
    "        display(ddf[['아파트명']].drop_duplicates())\n",
    "    \n",
    "    c = '건축년도'\n",
    "    ddf = _csv[_csv[c] <= 0]\n",
    "    if len(ddf) > 0:\n",
    "        display(f'{index} {c}')\n",
    "        display(ddf.sort_values(c))\n",
    "        display(ddf[['아파트명']].drop_duplicates())\n",
    "    \n",
    "    # 0일수가 없다 모름 의미\n",
    "    c = '건축면적'\n",
    "    ddf = _csv[_csv[c] <= 0]\n",
    "    if len(ddf) > 0:\n",
    "        display(f'{index} {c}')\n",
    "        display(ddf.sort_values(c))\n",
    "        display(ddf[['아파트명']].drop_duplicates())\n",
    "\n",
    "    # 0일수가 없다 모름 의미\n",
    "    c = '주차대수'\n",
    "    ddf = _csv[_csv[c] <= 0]\n",
    "    if len(ddf) > 0:\n",
    "        display(f'{index} {c}')\n",
    "        display(ddf.sort_values(c))\n",
    "        display(ddf[['아파트명']].drop_duplicates())\n"
   ]
  },
  {
   "cell_type": "code",
   "execution_count": null,
   "id": "34",
   "metadata": {},
   "outputs": [],
   "source": [
    "for s in [train_csv_v1, test_csv_v1]:\n",
    "    for c in s.columns:\n",
    "        if not pd.api.types.is_numeric_dtype(s[c]):\n",
    "            try:\n",
    "                ddf = s[(s[c].str.strip().str.len().fillna(0) <= 2) & (s[c].str.contains(r'[-_]|^\\s*$|없음', regex=True, na=True))]\n",
    "                \n",
    "                if len(ddf) > 0:\n",
    "                    display(ddf[[c]].sort_values(by=c, key=lambda x: x.str.strip().str.len(), na_position='first').drop_duplicates())\n",
    "                    display(ddf[c].nunique())\n",
    "                    \n",
    "            except Exception as e:\n",
    "                print(c, 'error', s[c].dtype, e)\n",
    "\n"
   ]
  },
  {
   "cell_type": "markdown",
   "id": "35",
   "metadata": {},
   "source": [
    "## 모델 테스트"
   ]
  },
  {
   "cell_type": "code",
   "execution_count": null,
   "id": "36",
   "metadata": {},
   "outputs": [],
   "source": [
    "random_state = 42"
   ]
  },
  {
   "cell_type": "code",
   "execution_count": null,
   "id": "37",
   "metadata": {},
   "outputs": [],
   "source": [
    "train_model_csv = train_csv_v1.copy()\n",
    "test_model_csv = test_csv_v1.copy()"
   ]
  },
  {
   "cell_type": "code",
   "execution_count": null,
   "id": "38",
   "metadata": {},
   "outputs": [],
   "source": [
    "from sklearn.preprocessing import LabelEncoder\n",
    "\n",
    "c = '시군구'\n",
    "le = LabelEncoder()\n",
    "le.fit_transform(pd.concat([train_model_csv[c], test_model_csv[c]]))\n",
    "train_model_csv[f'{c}_e'] = le.transform(train_model_csv[c])\n",
    "test_model_csv[f'{c}_e'] = le.transform(test_model_csv[c])\n",
    "\n",
    "c = '아파트명'\n",
    "le = LabelEncoder()\n",
    "le.fit_transform(pd.concat([ train_model_csv[c], test_model_csv[c]]))\n",
    "train_model_csv[f'{c}_e'] = le.transform(train_model_csv[c])\n",
    "test_model_csv[f'{c}_e'] = le.transform(test_model_csv[c])"
   ]
  },
  {
   "cell_type": "code",
   "execution_count": null,
   "id": "39",
   "metadata": {},
   "outputs": [],
   "source": [
    "# 파생, 엔코딩 후 제거\n",
    "train_model_csv = train_model_csv.drop(['시군구', '번지', '본번', '부번', '아파트명'], axis=1)\n",
    "test_model_csv = test_model_csv.drop(['시군구', '번지', '본번', '부번', '아파트명'], axis=1)\n",
    "\n",
    "# 결측치를 위해 임의로 제거\n",
    "train_model_csv = train_model_csv.drop(['층', '계약일', '건축면적', '주차대수'], axis=1)\n",
    "test_model_csv = test_model_csv.drop(['층', '계약일', '건축면적', '주차대수'], axis=1)"
   ]
  },
  {
   "cell_type": "code",
   "execution_count": null,
   "id": "40",
   "metadata": {},
   "outputs": [],
   "source": [
    "display(train_model_csv.info())\n",
    "\n",
    "train_model_csv"
   ]
  },
  {
   "cell_type": "code",
   "execution_count": null,
   "id": "41",
   "metadata": {},
   "outputs": [],
   "source": [
    "from sklearn.model_selection import train_test_split\n",
    "\n",
    "X_train, X_test, y_train, y_test = train_test_split(\n",
    "    train_model_csv.drop('target', axis=1),\n",
    "    train_model_csv['target'],\n",
    "    test_size = 0.2,\n",
    "    random_state=random_state,\n",
    ")"
   ]
  },
  {
   "cell_type": "code",
   "execution_count": null,
   "id": "42",
   "metadata": {},
   "outputs": [],
   "source": [
    "from sklearn.ensemble import RandomForestRegressor\n",
    "\n",
    "model = RandomForestRegressor(\n",
    "    n_estimators=100,\n",
    "    random_state=random_state,\n",
    ")"
   ]
  },
  {
   "cell_type": "code",
   "execution_count": null,
   "id": "43",
   "metadata": {},
   "outputs": [],
   "source": [
    "%%time\n",
    "model.fit(X_train, y_train)"
   ]
  },
  {
   "cell_type": "code",
   "execution_count": null,
   "id": "44",
   "metadata": {},
   "outputs": [],
   "source": [
    "model.score(X_test, y_test)"
   ]
  },
  {
   "cell_type": "code",
   "execution_count": null,
   "id": "45",
   "metadata": {},
   "outputs": [],
   "source": [
    "pred = model.predict(X_test)"
   ]
  },
  {
   "cell_type": "code",
   "execution_count": null,
   "id": "46",
   "metadata": {},
   "outputs": [],
   "source": [
    "from sklearn.metrics import mean_squared_error\n",
    "\n",
    "print(f'RMSE test: {np.sqrt(mean_squared_error(y_test, pred))}')"
   ]
  },
  {
   "cell_type": "code",
   "execution_count": null,
   "id": "47",
   "metadata": {},
   "outputs": [],
   "source": [
    "preds_df = pd.DataFrame(pred.astype(int), columns=[\"target\"])\n",
    "preds_df.to_csv('output.csv', index=False)"
   ]
  }
 ],
 "metadata": {
  "kernelspec": {
   "display_name": "Python 3",
   "language": "python",
   "name": "python3"
  },
  "language_info": {
   "codemirror_mode": {
    "name": "ipython",
    "version": 2
   },
   "file_extension": ".py",
   "mimetype": "text/x-python",
   "name": "python",
   "nbconvert_exporter": "python",
   "pygments_lexer": "ipython2",
   "version": "2.7.6"
  }
 },
 "nbformat": 4,
 "nbformat_minor": 5
}
